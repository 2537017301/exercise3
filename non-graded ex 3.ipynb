{
 "cells": [
  {
   "cell_type": "markdown",
   "metadata": {},
   "source": [
    "Create a treasure hunt game where a user has to figure out the location of the treasure on a grid by using just the commands of E, W, N, and S, indicating East, West, North, and South, respectively. \n",
    "\n",
    "REQUIREMENTS:\n",
    "1. Define the size of the grid. It could be any number, but start from 5\n",
    "2. Assign the player a random position on the map. Do the same for the location of the treasure. (HINT: use randint() to generate a random set of coordinates)\n",
    "    2.1. Since it's 2-dimensional grid, the location of both the player and the treasure will be coordinates, like (x,y)\n",
    "3. Decide the maximum moves the player can make and keep track of the number of moves.\n",
    "4. Calculate the initial distance between the player and the treasure location\n",
    "5. Allow player to make as many moves as maximum moves allowed\n",
    "    5.1. Depending on which direction the player moves (N, S, E, or W), recalculate player's position and their distance from the treasure location\n",
    "    5.2. If the move brings player closer to the treasure, let the user know that they are getting closer\n",
    "    5.3. If the move takes player away from the treasure, let the user know that they are moving farther\n",
    "    5.4. If the player makes an illegal move, then let the user know that that move is not allowed. \n",
    "    5.5. If the new player position is the same as the treasure position, let the user know that they have found the treasure\n",
    "    5.6. If the moves made by the player are the same as maximum moves allowed, let the user know that no more moves are possible and that they have lost the game. Also show them where the treasure was located.\n",
    "    5.7. If there are still moves left, then the game should continue and keep asking the user for their moves. \n"
   ]
  },
  {
   "cell_type": "code",
   "execution_count": 2,
   "metadata": {},
   "outputs": [
    {
     "name": "stdout",
     "output_type": "stream",
     "text": [
      "Welcome to the treasure hunt! The grid size is 5x5.\n",
      "You have 10 moves to find the treasure.\n",
      "\n",
      "Your current position: [3, 1]\n",
      "You're moving farther away!\n",
      "\n",
      "Your current position: [2, 1]\n"
     ]
    }
   ],
   "source": [
    "import random\n",
    "\n",
    "# Initialize the grid size\n",
    "grid_size = 5\n",
    "\n",
    "# Assign random positions for player and treasure\n",
    "player_pos = [random.randint(0, grid_size - 1), random.randint(0, grid_size - 1)]\n",
    "treasure_pos = [random.randint(0, grid_size - 1), random.randint(0, grid_size - 1)]\n",
    "\n",
    "# Ensure player and treasure don't start at the same position\n",
    "while player_pos == treasure_pos:\n",
    "    treasure_pos = [random.randint(0, grid_size - 1), random.randint(0, grid_size - 1)]\n",
    "\n",
    "# Maximum number of moves the player can make\n",
    "max_moves = 10\n",
    "moves_made = 0\n",
    "\n",
    "# Function to calculate Manhattan distance between player and treasure\n",
    "def calculate_distance(pos1, pos2):\n",
    "    return abs(pos1[0] - pos2[0]) + abs(pos1[1] - pos2[1])\n",
    "\n",
    "# Initial distance from player to treasure\n",
    "initial_distance = calculate_distance(player_pos, treasure_pos)\n",
    "\n",
    "# Function to handle the player's move\n",
    "def make_move(direction, player_pos):\n",
    "    if direction == 'N' and player_pos[1] < grid_size - 1:\n",
    "        player_pos[1] += 1\n",
    "    elif direction == 'S' and player_pos[1] > 0:\n",
    "        player_pos[1] -= 1\n",
    "    elif direction == 'E' and player_pos[0] < grid_size - 1:\n",
    "        player_pos[0] += 1\n",
    "    elif direction == 'W' and player_pos[0] > 0:\n",
    "        player_pos[0] -= 1\n",
    "    else:\n",
    "        print(\"Illegal move! You can't move outside the grid.\")\n",
    "        return False  # Invalid move\n",
    "    return True\n",
    "\n",
    "# Game loop\n",
    "print(f\"Welcome to the treasure hunt! The grid size is {grid_size}x{grid_size}.\")\n",
    "print(f\"You have {max_moves} moves to find the treasure.\")\n",
    "\n",
    "while moves_made < max_moves:\n",
    "    print(f\"\\nYour current position: {player_pos}\")\n",
    "    current_distance = calculate_distance(player_pos, treasure_pos)\n",
    "    \n",
    "    # Check if the player has found the treasure\n",
    "    if player_pos == treasure_pos:\n",
    "        print(\"Congratulations! You found the treasure!\")\n",
    "        break\n",
    "    \n",
    "    # Ask the player for their next move\n",
    "    move = input(\"Enter your move (N, S, E, W): \").upper()\n",
    "\n",
    "    if make_move(move, player_pos):\n",
    "        moves_made += 1\n",
    "        new_distance = calculate_distance(player_pos, treasure_pos)\n",
    "        \n",
    "        if new_distance < current_distance:\n",
    "            print(\"You're getting closer!\")\n",
    "        elif new_distance > current_distance:\n",
    "            print(\"You're moving farther away!\")\n",
    "        \n",
    "    if moves_made == max_moves:\n",
    "        print(f\"\\nGame over! You've used all your {max_moves} moves.\")\n",
    "        print(f\"The treasure was located at {treasure_pos}.\")\n"
   ]
  }
 ],
 "metadata": {
  "kernelspec": {
   "display_name": "Python 3",
   "language": "python",
   "name": "python3"
  },
  "language_info": {
   "codemirror_mode": {
    "name": "ipython",
    "version": 3
   },
   "file_extension": ".py",
   "mimetype": "text/x-python",
   "name": "python",
   "nbconvert_exporter": "python",
   "pygments_lexer": "ipython3",
   "version": "3.8.10"
  }
 },
 "nbformat": 4,
 "nbformat_minor": 2
}
